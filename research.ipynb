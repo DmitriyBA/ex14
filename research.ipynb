{
  "cells": [
    {
      "cell_type": "markdown",
      "metadata": {
        "id": "view-in-github",
        "colab_type": "text"
      },
      "source": [
        "<a href=\"https://colab.research.google.com/github/DmitriyBA/ex14/blob/main/research.ipynb\" target=\"_parent\"><img src=\"https://colab.research.google.com/assets/colab-badge.svg\" alt=\"Open In Colab\"/></a>"
      ]
    },
    {
      "cell_type": "code",
      "source": [
        "import pandas as pd \n",
        "import statistics\n",
        "import matplotlib.pyplot as plt\n",
        "from scipy.stats import pearsonr\n",
        "import seaborn as sns\n",
        "plt.style.use('dark_background')"
      ],
      "metadata": {
        "id": "1muVfoWBK61s"
      },
      "execution_count": 223,
      "outputs": []
    },
    {
      "cell_type": "code",
      "source": [
        "df = pd.read_csv('/content/HR.csv')\n",
        "df.head()"
      ],
      "metadata": {
        "colab": {
          "base_uri": "https://localhost:8080/",
          "height": 206
        },
        "id": "lzvBHDnnK8Pw",
        "outputId": "900a98bf-a9b2-41cf-f5fe-36b5d0b8750c"
      },
      "execution_count": 224,
      "outputs": [
        {
          "output_type": "execute_result",
          "data": {
            "text/plain": [
              "   satisfaction_level  last_evaluation  number_project  average_montly_hours  \\\n",
              "0                0.38             0.53               2                   157   \n",
              "1                0.80             0.86               5                   262   \n",
              "2                0.11             0.88               7                   272   \n",
              "3                0.72             0.87               5                   223   \n",
              "4                0.37             0.52               2                   159   \n",
              "\n",
              "   time_spend_company  Work_accident  left  promotion_last_5years  sales  \\\n",
              "0                   3              0     1                      0  sales   \n",
              "1                   6              0     1                      0  sales   \n",
              "2                   4              0     1                      0  sales   \n",
              "3                   5              0     1                      0  sales   \n",
              "4                   3              0     1                      0  sales   \n",
              "\n",
              "   salary  \n",
              "0     low  \n",
              "1  medium  \n",
              "2  medium  \n",
              "3     low  \n",
              "4     low  "
            ],
            "text/html": [
              "\n",
              "  <div id=\"df-255feaa8-2531-45cc-bf8e-7798a2c82b9c\">\n",
              "    <div class=\"colab-df-container\">\n",
              "      <div>\n",
              "<style scoped>\n",
              "    .dataframe tbody tr th:only-of-type {\n",
              "        vertical-align: middle;\n",
              "    }\n",
              "\n",
              "    .dataframe tbody tr th {\n",
              "        vertical-align: top;\n",
              "    }\n",
              "\n",
              "    .dataframe thead th {\n",
              "        text-align: right;\n",
              "    }\n",
              "</style>\n",
              "<table border=\"1\" class=\"dataframe\">\n",
              "  <thead>\n",
              "    <tr style=\"text-align: right;\">\n",
              "      <th></th>\n",
              "      <th>satisfaction_level</th>\n",
              "      <th>last_evaluation</th>\n",
              "      <th>number_project</th>\n",
              "      <th>average_montly_hours</th>\n",
              "      <th>time_spend_company</th>\n",
              "      <th>Work_accident</th>\n",
              "      <th>left</th>\n",
              "      <th>promotion_last_5years</th>\n",
              "      <th>sales</th>\n",
              "      <th>salary</th>\n",
              "    </tr>\n",
              "  </thead>\n",
              "  <tbody>\n",
              "    <tr>\n",
              "      <th>0</th>\n",
              "      <td>0.38</td>\n",
              "      <td>0.53</td>\n",
              "      <td>2</td>\n",
              "      <td>157</td>\n",
              "      <td>3</td>\n",
              "      <td>0</td>\n",
              "      <td>1</td>\n",
              "      <td>0</td>\n",
              "      <td>sales</td>\n",
              "      <td>low</td>\n",
              "    </tr>\n",
              "    <tr>\n",
              "      <th>1</th>\n",
              "      <td>0.80</td>\n",
              "      <td>0.86</td>\n",
              "      <td>5</td>\n",
              "      <td>262</td>\n",
              "      <td>6</td>\n",
              "      <td>0</td>\n",
              "      <td>1</td>\n",
              "      <td>0</td>\n",
              "      <td>sales</td>\n",
              "      <td>medium</td>\n",
              "    </tr>\n",
              "    <tr>\n",
              "      <th>2</th>\n",
              "      <td>0.11</td>\n",
              "      <td>0.88</td>\n",
              "      <td>7</td>\n",
              "      <td>272</td>\n",
              "      <td>4</td>\n",
              "      <td>0</td>\n",
              "      <td>1</td>\n",
              "      <td>0</td>\n",
              "      <td>sales</td>\n",
              "      <td>medium</td>\n",
              "    </tr>\n",
              "    <tr>\n",
              "      <th>3</th>\n",
              "      <td>0.72</td>\n",
              "      <td>0.87</td>\n",
              "      <td>5</td>\n",
              "      <td>223</td>\n",
              "      <td>5</td>\n",
              "      <td>0</td>\n",
              "      <td>1</td>\n",
              "      <td>0</td>\n",
              "      <td>sales</td>\n",
              "      <td>low</td>\n",
              "    </tr>\n",
              "    <tr>\n",
              "      <th>4</th>\n",
              "      <td>0.37</td>\n",
              "      <td>0.52</td>\n",
              "      <td>2</td>\n",
              "      <td>159</td>\n",
              "      <td>3</td>\n",
              "      <td>0</td>\n",
              "      <td>1</td>\n",
              "      <td>0</td>\n",
              "      <td>sales</td>\n",
              "      <td>low</td>\n",
              "    </tr>\n",
              "  </tbody>\n",
              "</table>\n",
              "</div>\n",
              "      <button class=\"colab-df-convert\" onclick=\"convertToInteractive('df-255feaa8-2531-45cc-bf8e-7798a2c82b9c')\"\n",
              "              title=\"Convert this dataframe to an interactive table.\"\n",
              "              style=\"display:none;\">\n",
              "        \n",
              "  <svg xmlns=\"http://www.w3.org/2000/svg\" height=\"24px\"viewBox=\"0 0 24 24\"\n",
              "       width=\"24px\">\n",
              "    <path d=\"M0 0h24v24H0V0z\" fill=\"none\"/>\n",
              "    <path d=\"M18.56 5.44l.94 2.06.94-2.06 2.06-.94-2.06-.94-.94-2.06-.94 2.06-2.06.94zm-11 1L8.5 8.5l.94-2.06 2.06-.94-2.06-.94L8.5 2.5l-.94 2.06-2.06.94zm10 10l.94 2.06.94-2.06 2.06-.94-2.06-.94-.94-2.06-.94 2.06-2.06.94z\"/><path d=\"M17.41 7.96l-1.37-1.37c-.4-.4-.92-.59-1.43-.59-.52 0-1.04.2-1.43.59L10.3 9.45l-7.72 7.72c-.78.78-.78 2.05 0 2.83L4 21.41c.39.39.9.59 1.41.59.51 0 1.02-.2 1.41-.59l7.78-7.78 2.81-2.81c.8-.78.8-2.07 0-2.86zM5.41 20L4 18.59l7.72-7.72 1.47 1.35L5.41 20z\"/>\n",
              "  </svg>\n",
              "      </button>\n",
              "      \n",
              "  <style>\n",
              "    .colab-df-container {\n",
              "      display:flex;\n",
              "      flex-wrap:wrap;\n",
              "      gap: 12px;\n",
              "    }\n",
              "\n",
              "    .colab-df-convert {\n",
              "      background-color: #E8F0FE;\n",
              "      border: none;\n",
              "      border-radius: 50%;\n",
              "      cursor: pointer;\n",
              "      display: none;\n",
              "      fill: #1967D2;\n",
              "      height: 32px;\n",
              "      padding: 0 0 0 0;\n",
              "      width: 32px;\n",
              "    }\n",
              "\n",
              "    .colab-df-convert:hover {\n",
              "      background-color: #E2EBFA;\n",
              "      box-shadow: 0px 1px 2px rgba(60, 64, 67, 0.3), 0px 1px 3px 1px rgba(60, 64, 67, 0.15);\n",
              "      fill: #174EA6;\n",
              "    }\n",
              "\n",
              "    [theme=dark] .colab-df-convert {\n",
              "      background-color: #3B4455;\n",
              "      fill: #D2E3FC;\n",
              "    }\n",
              "\n",
              "    [theme=dark] .colab-df-convert:hover {\n",
              "      background-color: #434B5C;\n",
              "      box-shadow: 0px 1px 3px 1px rgba(0, 0, 0, 0.15);\n",
              "      filter: drop-shadow(0px 1px 2px rgba(0, 0, 0, 0.3));\n",
              "      fill: #FFFFFF;\n",
              "    }\n",
              "  </style>\n",
              "\n",
              "      <script>\n",
              "        const buttonEl =\n",
              "          document.querySelector('#df-255feaa8-2531-45cc-bf8e-7798a2c82b9c button.colab-df-convert');\n",
              "        buttonEl.style.display =\n",
              "          google.colab.kernel.accessAllowed ? 'block' : 'none';\n",
              "\n",
              "        async function convertToInteractive(key) {\n",
              "          const element = document.querySelector('#df-255feaa8-2531-45cc-bf8e-7798a2c82b9c');\n",
              "          const dataTable =\n",
              "            await google.colab.kernel.invokeFunction('convertToInteractive',\n",
              "                                                     [key], {});\n",
              "          if (!dataTable) return;\n",
              "\n",
              "          const docLinkHtml = 'Like what you see? Visit the ' +\n",
              "            '<a target=\"_blank\" href=https://colab.research.google.com/notebooks/data_table.ipynb>data table notebook</a>'\n",
              "            + ' to learn more about interactive tables.';\n",
              "          element.innerHTML = '';\n",
              "          dataTable['output_type'] = 'display_data';\n",
              "          await google.colab.output.renderOutput(dataTable, element);\n",
              "          const docLink = document.createElement('div');\n",
              "          docLink.innerHTML = docLinkHtml;\n",
              "          element.appendChild(docLink);\n",
              "        }\n",
              "      </script>\n",
              "    </div>\n",
              "  </div>\n",
              "  "
            ]
          },
          "metadata": {},
          "execution_count": 224
        }
      ]
    },
    {
      "cell_type": "markdown",
      "source": [
        "Описательные статистики для переменной satisfaction_level"
      ],
      "metadata": {
        "id": "uX56rjiuOKcu"
      }
    },
    {
      "cell_type": "code",
      "source": [
        "print(\"Среднее значение - \", statistics.mean(df['satisfaction_level']))\n",
        "print(\"Медиана - \", statistics.median(df['satisfaction_level']))\n",
        "print(\"Мода - \", statistics.mode(df['satisfaction_level']))\n",
        "print(\"Стандартное отклонение - \", statistics.pstdev(df['satisfaction_level']))\n",
        "print(\"Максимальное значение - \", max(df['satisfaction_level']))\n",
        "print(\"Минимальное значение - \", min(df['satisfaction_level']))\n",
        "print(\"Размах - \", max(df['satisfaction_level'])-min(df['satisfaction_level']))\n",
        "print(\"Диспресия - \", statistics.pvariance(df['satisfaction_level']))"
      ],
      "metadata": {
        "id": "lOAgCA8uLBTn",
        "outputId": "af8a9d8d-1507-421d-fbd0-9735c9d3c1c1",
        "colab": {
          "base_uri": "https://localhost:8080/"
        }
      },
      "execution_count": 225,
      "outputs": [
        {
          "output_type": "stream",
          "name": "stdout",
          "text": [
            "Среднее значение -  0.6128335222348157\n",
            "Медиана -  0.64\n",
            "Мода -  0.1\n",
            "Стандартное отклонение -  0.2486223626820733\n",
            "Максимальное значение -  1.0\n",
            "Минимальное значение -  0.09\n",
            "Размах -  0.91\n",
            "Диспресия -  0.061813079225616394\n"
          ]
        }
      ]
    },
    {
      "cell_type": "code",
      "source": [
        "print(\"Среднее значение - \", statistics.mean(df['last_evaluation']))\n",
        "print(\"Медиана - \", statistics.median(df['last_evaluation']))\n",
        "print(\"Мода - \", statistics.mode(df['last_evaluation']))\n",
        "print(\"Стандартное отклонение - \", statistics.pstdev(df['last_evaluation']))\n",
        "print(\"Максимальное значение - \", max(df['last_evaluation']))\n",
        "print(\"Минимальное значение - \", min(df['last_evaluation']))\n",
        "print(\"Размах - \", max(df['last_evaluation'])-min(df['last_evaluation']))\n",
        "print(\"Диспресия - \", statistics.pvariance(df['last_evaluation']))"
      ],
      "metadata": {
        "id": "AZXBiPC3Mwmk",
        "outputId": "1821a2ba-0921-4cb0-dd34-30e69b2617ab",
        "colab": {
          "base_uri": "https://localhost:8080/"
        }
      },
      "execution_count": 226,
      "outputs": [
        {
          "output_type": "stream",
          "name": "stdout",
          "text": [
            "Среднее значение -  0.7161017401160077\n",
            "Медиана -  0.72\n",
            "Мода -  0.55\n",
            "Стандартное отклонение -  0.1711634045107436\n",
            "Максимальное значение -  1.0\n",
            "Минимальное значение -  0.36\n",
            "Размах -  0.64\n",
            "Диспресия -  0.029296911043708445\n"
          ]
        }
      ]
    },
    {
      "cell_type": "code",
      "source": [
        "print(\"Среднее значение - \", statistics.mean(df['number_project']))\n",
        "print(\"Медиана - \", statistics.median(df['number_project']))\n",
        "print(\"Мода - \", statistics.mode(df['number_project']))\n",
        "print(\"Стандартное отклонение - \", statistics.pstdev(df['number_project']))\n",
        "print(\"Максимальное значение - \", max(df['number_project']))\n",
        "print(\"Минимальное значение - \", min(df['number_project']))\n",
        "print(\"Размах - \", max(df['number_project'])-min(df['number_project']))\n",
        "print(\"Диспресия - \", statistics.pvariance(df['number_project']))"
      ],
      "metadata": {
        "id": "lR-uOFGOOV_j",
        "outputId": "c0c02e71-241e-4820-e19b-19669a925641",
        "colab": {
          "base_uri": "https://localhost:8080/"
        }
      },
      "execution_count": 227,
      "outputs": [
        {
          "output_type": "stream",
          "name": "stdout",
          "text": [
            "Среднее значение -  3.80305353690246\n",
            "Медиана -  4\n",
            "Мода -  4\n",
            "Стандартное отклонение -  1.2325512654823438\n",
            "Максимальное значение -  7\n",
            "Минимальное значение -  2\n",
            "Размах -  5\n",
            "Диспресия -  1.5191826220421274\n"
          ]
        }
      ]
    },
    {
      "cell_type": "code",
      "source": [
        "print(\"Среднее значение - \", statistics.mean(df['average_montly_hours']))\n",
        "print(\"Медиана - \", statistics.median(df['average_montly_hours']))\n",
        "print(\"Стандартное отклонение - \", statistics.pstdev(df['average_montly_hours']))\n",
        "print(\"Максимальное значение - \", max(df['average_montly_hours']))\n",
        "print(\"Минимальное значение - \", min(df['average_montly_hours']))\n",
        "print(\"Размах - \", max(df['average_montly_hours'])-min(df['average_montly_hours']))\n",
        "print(\"Диспресия - \", statistics.pvariance(df['average_montly_hours']))"
      ],
      "metadata": {
        "id": "Sv5kmYLAOb3M",
        "outputId": "20dce806-318a-4052-98c7-cee3da611517",
        "colab": {
          "base_uri": "https://localhost:8080/"
        }
      },
      "execution_count": 228,
      "outputs": [
        {
          "output_type": "stream",
          "name": "stdout",
          "text": [
            "Среднее значение -  201.0503366891126\n",
            "Медиана -  200\n",
            "Стандартное отклонение -  49.94143446256218\n",
            "Максимальное значение -  310\n",
            "Минимальное значение -  96\n",
            "Размах -  214\n",
            "Диспресия -  2494.146876178393\n"
          ]
        }
      ]
    },
    {
      "cell_type": "code",
      "source": [
        "print(\"Среднее значение - \", statistics.mean(df['time_spend_company']))\n",
        "print(\"Медиана - \", statistics.median(df['time_spend_company']))\n",
        "print(\"Мода - \", statistics.mode(df['time_spend_company']))\n",
        "print(\"Стандартное отклонение - \", statistics.pstdev(df['time_spend_company']))\n",
        "print(\"Максимальное значение - \", max(df['time_spend_company']))\n",
        "print(\"Минимальное значение - \", min(df['time_spend_company']))\n",
        "print(\"Размах - \", max(df['time_spend_company'])-min(df['time_spend_company']))\n",
        "print(\"Диспресия - \", statistics.pvariance(df['time_spend_company']))"
      ],
      "metadata": {
        "id": "4ZNp-NklOgP1",
        "outputId": "0a9e7cdc-7053-4799-af29-83a916e68694",
        "colab": {
          "base_uri": "https://localhost:8080/"
        }
      },
      "execution_count": 229,
      "outputs": [
        {
          "output_type": "stream",
          "name": "stdout",
          "text": [
            "Среднее значение -  3.498233215547703\n",
            "Медиана -  3\n",
            "Мода -  3\n",
            "Стандартное отклонение -  1.4600875552715114\n",
            "Максимальное значение -  10\n",
            "Минимальное значение -  2\n",
            "Размах -  8\n",
            "Диспресия -  2.1318556690587385\n"
          ]
        }
      ]
    },
    {
      "cell_type": "code",
      "source": [
        "print(\"Среднее значение - \", statistics.mean(df['Work_accident']))\n",
        "print(\"Медиана - \", statistics.median(df['Work_accident']))\n",
        "print(\"Мода - \", statistics.mode(df['Work_accident']))\n",
        "print(\"Стандартное отклонение - \", statistics.pstdev(df['Work_accident']))\n",
        "print(\"Максимальное значение - \", max(df['Work_accident']))\n",
        "print(\"Минимальное значение - \", min(df['Work_accident']))\n",
        "print(\"Размах - \", max(df['Work_accident'])-min(df['Work_accident']))\n",
        "print(\"Диспресия - \", statistics.pvariance(df['Work_accident']))"
      ],
      "metadata": {
        "id": "6lVAOUHUO1v-",
        "outputId": "e6468a3d-1f66-484a-8812-03d88322ff04",
        "colab": {
          "base_uri": "https://localhost:8080/"
        }
      },
      "execution_count": 230,
      "outputs": [
        {
          "output_type": "stream",
          "name": "stdout",
          "text": [
            "Среднее значение -  0.1446096406427095\n",
            "Медиана -  0\n",
            "Мода -  0\n",
            "Стандартное отклонение -  0.3517068274513532\n",
            "Максимальное значение -  1\n",
            "Минимальное значение -  0\n",
            "Размах -  1\n",
            "Диспресия -  0.12369769247589593\n"
          ]
        }
      ]
    },
    {
      "cell_type": "code",
      "source": [
        "print(\"Среднее значение - \", statistics.mean(df['left']))\n",
        "print(\"Медиана - \", statistics.median(df['left']))\n",
        "print(\"Мода - \", statistics.mode(df['left']))\n",
        "print(\"Стандартное отклонение - \", statistics.pstdev(df['left']))\n",
        "print(\"Максимальное значение - \", max(df['left']))\n",
        "print(\"Минимальное значение - \", min(df['left']))\n",
        "print(\"Размах - \", max(df['left'])-min(df['left']))\n",
        "print(\"Диспресия - \", statistics.pvariance(df['left']))"
      ],
      "metadata": {
        "id": "LGFwRdXrO6Y6",
        "outputId": "0cf87e45-be35-4837-fd0e-518eee9b0669",
        "colab": {
          "base_uri": "https://localhost:8080/"
        }
      },
      "execution_count": 231,
      "outputs": [
        {
          "output_type": "stream",
          "name": "stdout",
          "text": [
            "Среднее значение -  0.2380825388359224\n",
            "Медиана -  0\n",
            "Мода -  0\n",
            "Стандартное отклонение -  0.42590990072709495\n",
            "Максимальное значение -  1\n",
            "Минимальное значение -  0\n",
            "Размах -  1\n",
            "Диспресия -  0.1813992435373639\n"
          ]
        }
      ]
    },
    {
      "cell_type": "code",
      "source": [
        "print(\"Среднее значение - \", statistics.mean(df['promotion_last_5years']))\n",
        "print(\"Медиана - \", statistics.median(df['promotion_last_5years']))\n",
        "print(\"Мода - \", statistics.mode(df['promotion_last_5years']))\n",
        "print(\"Стандартное отклонение - \", statistics.pstdev(df['promotion_last_5years']))\n",
        "print(\"Максимальное значение - \", max(df['promotion_last_5years']))\n",
        "print(\"Минимальное значение - \", min(df['promotion_last_5years']))\n",
        "print(\"Размах - \", max(df['promotion_last_5years'])-min(df['promotion_last_5years']))\n",
        "print(\"Диспресия - \", statistics.pvariance(df['promotion_last_5years']))"
      ],
      "metadata": {
        "id": "uJ_Q7wd1O_i0",
        "outputId": "2ece72f1-367a-4d81-b93a-5d11836f99ac",
        "colab": {
          "base_uri": "https://localhost:8080/"
        }
      },
      "execution_count": 232,
      "outputs": [
        {
          "output_type": "stream",
          "name": "stdout",
          "text": [
            "Среднее значение -  0.021268084538969265\n",
            "Медиана -  0\n",
            "Мода -  0\n",
            "Стандартное отклонение -  0.14427665479561314\n",
            "Максимальное значение -  1\n",
            "Минимальное значение -  0\n",
            "Размах -  1\n",
            "Диспресия -  0.02081575311901252\n"
          ]
        }
      ]
    },
    {
      "cell_type": "code",
      "source": [
        "print(\"Медиана - \", statistics.median(df['sales']))\n",
        "print(\"Мода - \", statistics.mode(df['sales']))"
      ],
      "metadata": {
        "id": "rK19nr3QPGup",
        "outputId": "76a8dc36-fb77-4d6a-8992-e44614c02263",
        "colab": {
          "base_uri": "https://localhost:8080/"
        }
      },
      "execution_count": 233,
      "outputs": [
        {
          "output_type": "stream",
          "name": "stdout",
          "text": [
            "Медиана -  sales\n",
            "Мода -  sales\n"
          ]
        }
      ]
    },
    {
      "cell_type": "markdown",
      "source": [
        "Найдем корреляционную зависимость между несчастным случаем на работе и последней оценки"
      ],
      "metadata": {
        "id": "WSHe8bQ9QySW"
      }
    },
    {
      "cell_type": "code",
      "source": [
        "work_accident = df['Work_accident']\n",
        "last_evaluation = df['last_evaluation']\n",
        "plt.xlabel('Выборка duration')\n",
        "plt.ylabel('Выборка avg_vote')\n",
        "plt.scatter(work_accident, last_evaluation, marker='.')"
      ],
      "metadata": {
        "id": "-VrmS7QfQ8YG",
        "outputId": "dfb4dfa4-f594-479b-b4e9-0c84adc8450a",
        "colab": {
          "base_uri": "https://localhost:8080/",
          "height": 296
        }
      },
      "execution_count": 234,
      "outputs": [
        {
          "output_type": "execute_result",
          "data": {
            "text/plain": [
              "<matplotlib.collections.PathCollection at 0x7f7492febe90>"
            ]
          },
          "metadata": {},
          "execution_count": 234
        },
        {
          "output_type": "display_data",
          "data": {
            "text/plain": [
              "<Figure size 432x288 with 1 Axes>"
            ],
            "image/png": "[encoded data removed]"
          },
          "metadata": {}
        }
      ]
    },
    {
      "cell_type": "markdown",
      "source": [
        "Видим, что корреляции нет, так как она близка к 0"
      ],
      "metadata": {
        "id": "WmhrTgPqSFuy"
      }
    },
    {
      "cell_type": "code",
      "source": [
        "print(\"Корреляция - \", round(pearsonr(work_accident, last_evaluation)[0]))"
      ],
      "metadata": {
        "id": "39McUZqQRQbm",
        "outputId": "c9b09473-fb6f-468f-cf0d-7a684aa9e711",
        "colab": {
          "base_uri": "https://localhost:8080/"
        }
      },
      "execution_count": 235,
      "outputs": [
        {
          "output_type": "stream",
          "name": "stdout",
          "text": [
            "Корреляция -  0\n"
          ]
        }
      ]
    },
    {
      "cell_type": "markdown",
      "source": [
        "Построим матрицу корреляций для датафрейма"
      ],
      "metadata": {
        "id": "ZFg-pOylTDr7"
      }
    },
    {
      "cell_type": "code",
      "source": [
        "sns.heatmap(df.corr(), annot=True, cmap='RdYlGn', linewidths=0.2)"
      ],
      "metadata": {
        "id": "d4AV0gxDTH3h",
        "outputId": "cb85ef72-7b6a-4f5a-8315-a0257f533588",
        "colab": {
          "base_uri": "https://localhost:8080/",
          "height": 390
        }
      },
      "execution_count": 236,
      "outputs": [
        {
          "output_type": "execute_result",
          "data": {
            "text/plain": [
              "<matplotlib.axes._subplots.AxesSubplot at 0x7f7493025390>"
            ]
          },
          "metadata": {},
          "execution_count": 236
        },
        {
          "output_type": "display_data",
          "data": {
            "text/plain": [
              "<Figure size 432x288 with 2 Axes>"
            ],
            "image/png": "[encoded data removed]"
          },
          "metadata": {}
        }
      ]
    },
    {
      "cell_type": "markdown",
      "source": [
        "Видим, что самая высокая корреляция равна 0.42 по модулю"
      ],
      "metadata": {
        "id": "nWsC5eNzTv9_"
      }
    },
    {
      "cell_type": "code",
      "source": [
        "number_project = df['number_project']\n",
        "average_montly_hours = df['average_montly_hours']\n",
        "last_evaluation = df['last_evaluation']\n",
        "\n",
        "ax0 = plt.subplot(1, 3, 1)\n",
        "plt.title(\"number project и avg_vote\")\n",
        "plt.xlabel('Выборка duration')\n",
        "plt.ylabel('Выборка average_montly_hours') \n",
        "plt.grid(True)\n",
        "plt.scatter(number_project, average_montly_hours, marker='.')\n",
        "ax1 = plt.subplot(1, 3, 3) \n",
        "plt.title(\"number project и last_evaluation\")\n",
        "plt.xlabel('Выборка duration')\n",
        "plt.ylabel('Выборка last_evaluation') \n",
        "plt.grid(True)\n",
        "plt.scatter(number_project, last_evaluation, marker='.')"
      ],
      "metadata": {
        "colab": {
          "base_uri": "https://localhost:8080/",
          "height": 312
        },
        "id": "vWqDetrSTNOg",
        "outputId": "91b9a6f9-c7ac-406f-fa90-de827f207240"
      },
      "execution_count": 237,
      "outputs": [
        {
          "output_type": "execute_result",
          "data": {
            "text/plain": [
              "<matplotlib.collections.PathCollection at 0x7f7492e75590>"
            ]
          },
          "metadata": {},
          "execution_count": 237
        },
        {
          "output_type": "display_data",
          "data": {
            "text/plain": [
              "<Figure size 432x288 with 2 Axes>"
            ],
            "image/png": "[encoded data removed]"
          },
          "metadata": {}
        }
      ]
    },
    {
      "cell_type": "markdown",
      "source": [
        "Посчитаем количество несчастных случаев на проект"
      ],
      "metadata": {
        "id": "B6G_8VaMaBta"
      }
    },
    {
      "cell_type": "code",
      "source": [
        "count_work_accident = df.groupby(by='number_project').agg({'Work_accident': 'count'})\n",
        "count_work_accident"
      ],
      "metadata": {
        "id": "MArqvNKDc0ao",
        "outputId": "ebd0872e-ad13-495e-c40f-fd68b2f7f311",
        "colab": {
          "base_uri": "https://localhost:8080/",
          "height": 269
        }
      },
      "execution_count": 238,
      "outputs": [
        {
          "output_type": "execute_result",
          "data": {
            "text/plain": [
              "                Work_accident\n",
              "number_project               \n",
              "2                        2388\n",
              "3                        4055\n",
              "4                        4365\n",
              "5                        2761\n",
              "6                        1174\n",
              "7                         256"
            ],
            "text/html": [
              "\n",
              "  <div id=\"df-9a174429-c0f2-4bbd-aa68-3d99c78c91d4\">\n",
              "    <div class=\"colab-df-container\">\n",
              "      <div>\n",
              "<style scoped>\n",
              "    .dataframe tbody tr th:only-of-type {\n",
              "        vertical-align: middle;\n",
              "    }\n",
              "\n",
              "    .dataframe tbody tr th {\n",
              "        vertical-align: top;\n",
              "    }\n",
              "\n",
              "    .dataframe thead th {\n",
              "        text-align: right;\n",
              "    }\n",
              "</style>\n",
              "<table border=\"1\" class=\"dataframe\">\n",
              "  <thead>\n",
              "    <tr style=\"text-align: right;\">\n",
              "      <th></th>\n",
              "      <th>Work_accident</th>\n",
              "    </tr>\n",
              "    <tr>\n",
              "      <th>number_project</th>\n",
              "      <th></th>\n",
              "    </tr>\n",
              "  </thead>\n",
              "  <tbody>\n",
              "    <tr>\n",
              "      <th>2</th>\n",
              "      <td>2388</td>\n",
              "    </tr>\n",
              "    <tr>\n",
              "      <th>3</th>\n",
              "      <td>4055</td>\n",
              "    </tr>\n",
              "    <tr>\n",
              "      <th>4</th>\n",
              "      <td>4365</td>\n",
              "    </tr>\n",
              "    <tr>\n",
              "      <th>5</th>\n",
              "      <td>2761</td>\n",
              "    </tr>\n",
              "    <tr>\n",
              "      <th>6</th>\n",
              "      <td>1174</td>\n",
              "    </tr>\n",
              "    <tr>\n",
              "      <th>7</th>\n",
              "      <td>256</td>\n",
              "    </tr>\n",
              "  </tbody>\n",
              "</table>\n",
              "</div>\n",
              "      <button class=\"colab-df-convert\" onclick=\"convertToInteractive('df-9a174429-c0f2-4bbd-aa68-3d99c78c91d4')\"\n",
              "              title=\"Convert this dataframe to an interactive table.\"\n",
              "              style=\"display:none;\">\n",
              "        \n",
              "  <svg xmlns=\"http://www.w3.org/2000/svg\" height=\"24px\"viewBox=\"0 0 24 24\"\n",
              "       width=\"24px\">\n",
              "    <path d=\"M0 0h24v24H0V0z\" fill=\"none\"/>\n",
              "    <path d=\"M18.56 5.44l.94 2.06.94-2.06 2.06-.94-2.06-.94-.94-2.06-.94 2.06-2.06.94zm-11 1L8.5 8.5l.94-2.06 2.06-.94-2.06-.94L8.5 2.5l-.94 2.06-2.06.94zm10 10l.94 2.06.94-2.06 2.06-.94-2.06-.94-.94-2.06-.94 2.06-2.06.94z\"/><path d=\"M17.41 7.96l-1.37-1.37c-.4-.4-.92-.59-1.43-.59-.52 0-1.04.2-1.43.59L10.3 9.45l-7.72 7.72c-.78.78-.78 2.05 0 2.83L4 21.41c.39.39.9.59 1.41.59.51 0 1.02-.2 1.41-.59l7.78-7.78 2.81-2.81c.8-.78.8-2.07 0-2.86zM5.41 20L4 18.59l7.72-7.72 1.47 1.35L5.41 20z\"/>\n",
              "  </svg>\n",
              "      </button>\n",
              "      \n",
              "  <style>\n",
              "    .colab-df-container {\n",
              "      display:flex;\n",
              "      flex-wrap:wrap;\n",
              "      gap: 12px;\n",
              "    }\n",
              "\n",
              "    .colab-df-convert {\n",
              "      background-color: #E8F0FE;\n",
              "      border: none;\n",
              "      border-radius: 50%;\n",
              "      cursor: pointer;\n",
              "      display: none;\n",
              "      fill: #1967D2;\n",
              "      height: 32px;\n",
              "      padding: 0 0 0 0;\n",
              "      width: 32px;\n",
              "    }\n",
              "\n",
              "    .colab-df-convert:hover {\n",
              "      background-color: #E2EBFA;\n",
              "      box-shadow: 0px 1px 2px rgba(60, 64, 67, 0.3), 0px 1px 3px 1px rgba(60, 64, 67, 0.15);\n",
              "      fill: #174EA6;\n",
              "    }\n",
              "\n",
              "    [theme=dark] .colab-df-convert {\n",
              "      background-color: #3B4455;\n",
              "      fill: #D2E3FC;\n",
              "    }\n",
              "\n",
              "    [theme=dark] .colab-df-convert:hover {\n",
              "      background-color: #434B5C;\n",
              "      box-shadow: 0px 1px 3px 1px rgba(0, 0, 0, 0.15);\n",
              "      filter: drop-shadow(0px 1px 2px rgba(0, 0, 0, 0.3));\n",
              "      fill: #FFFFFF;\n",
              "    }\n",
              "  </style>\n",
              "\n",
              "      <script>\n",
              "        const buttonEl =\n",
              "          document.querySelector('#df-9a174429-c0f2-4bbd-aa68-3d99c78c91d4 button.colab-df-convert');\n",
              "        buttonEl.style.display =\n",
              "          google.colab.kernel.accessAllowed ? 'block' : 'none';\n",
              "\n",
              "        async function convertToInteractive(key) {\n",
              "          const element = document.querySelector('#df-9a174429-c0f2-4bbd-aa68-3d99c78c91d4');\n",
              "          const dataTable =\n",
              "            await google.colab.kernel.invokeFunction('convertToInteractive',\n",
              "                                                     [key], {});\n",
              "          if (!dataTable) return;\n",
              "\n",
              "          const docLinkHtml = 'Like what you see? Visit the ' +\n",
              "            '<a target=\"_blank\" href=https://colab.research.google.com/notebooks/data_table.ipynb>data table notebook</a>'\n",
              "            + ' to learn more about interactive tables.';\n",
              "          element.innerHTML = '';\n",
              "          dataTable['output_type'] = 'display_data';\n",
              "          await google.colab.output.renderOutput(dataTable, element);\n",
              "          const docLink = document.createElement('div');\n",
              "          docLink.innerHTML = docLinkHtml;\n",
              "          element.appendChild(docLink);\n",
              "        }\n",
              "      </script>\n",
              "    </div>\n",
              "  </div>\n",
              "  "
            ]
          },
          "metadata": {},
          "execution_count": 238
        }
      ]
    },
    {
      "cell_type": "code",
      "source": [
        "x = [2, 3, 4, 5, 6, 7]\n",
        "y = []\n",
        "\n",
        "for _ in range(len(count_work_accident)):\n",
        "  y.append(count_work_accident.iloc[_])\n",
        "\n",
        "plt.title(\"Номер проекта к количеству нарушений\")\n",
        "plt.plot(x, y)\n",
        "plt.show()"
      ],
      "metadata": {
        "id": "XZc42hJbdLn8",
        "outputId": "eccdc96a-0b49-4cbe-ec44-505d12dacff3",
        "colab": {
          "base_uri": "https://localhost:8080/",
          "height": 281
        }
      },
      "execution_count": 239,
      "outputs": [
        {
          "output_type": "display_data",
          "data": {
            "text/plain": [
              "<Figure size 432x288 with 1 Axes>"
            ],
            "image/png": "[encoded data removed]"
          },
          "metadata": {}
        }
      ]
    },
    {
      "cell_type": "code",
      "source": [
        "df['salary'].hist()\n",
        "plt.title(\"Распределение зарплат по сотрудникам\")\n",
        "plt.ylabel(\"Количество запрплат\")\n",
        "plt.xlabel(\"Тип зарплаты\")\n",
        "plt.show()"
      ],
      "metadata": {
        "id": "02Hmaiqcd8b2",
        "outputId": "089d1646-5395-4af6-bac0-1a04d3b67eaa",
        "colab": {
          "base_uri": "https://localhost:8080/",
          "height": 295
        }
      },
      "execution_count": 240,
      "outputs": [
        {
          "output_type": "display_data",
          "data": {
            "text/plain": [
              "<Figure size 432x288 with 1 Axes>"
            ],
            "image/png": "[encoded data removed]"
          },
          "metadata": {}
        }
      ]
    },
    {
      "cell_type": "markdown",
      "source": [
        "Распределение зарплат сотрудников совместно с проектом, то есть какое количество и типов зарплат встречается в каждом проекте"
      ],
      "metadata": {
        "id": "tux9LfVMhx4U"
      }
    },
    {
      "cell_type": "code",
      "source": [
        "df.groupby(['number_project', 'salary']).agg({'salary':'count'})"
      ],
      "metadata": {
        "id": "Xa1jdlf8evxg",
        "outputId": "fc43b839-86c8-41e6-e9c9-6ad222358071",
        "colab": {
          "base_uri": "https://localhost:8080/",
          "height": 645
        }
      },
      "execution_count": 279,
      "outputs": [
        {
          "output_type": "execute_result",
          "data": {
            "text/plain": [
              "                       salary\n",
              "number_project salary        \n",
              "2              high       140\n",
              "               low       1344\n",
              "               medium     904\n",
              "3              high       408\n",
              "               low       1791\n",
              "               medium    1856\n",
              "4              high       368\n",
              "               low       2087\n",
              "               medium    1910\n",
              "5              high       245\n",
              "               low       1317\n",
              "               medium    1199\n",
              "6              high        73\n",
              "               low        633\n",
              "               medium     468\n",
              "7              high         3\n",
              "               low        144\n",
              "               medium     109"
            ],
            "text/html": [
              "\n",
              "  <div id=\"df-d1bef5a4-1c64-44c3-b96b-0e6564edeb0c\">\n",
              "    <div class=\"colab-df-container\">\n",
              "      <div>\n",
              "<style scoped>\n",
              "    .dataframe tbody tr th:only-of-type {\n",
              "        vertical-align: middle;\n",
              "    }\n",
              "\n",
              "    .dataframe tbody tr th {\n",
              "        vertical-align: top;\n",
              "    }\n",
              "\n",
              "    .dataframe thead th {\n",
              "        text-align: right;\n",
              "    }\n",
              "</style>\n",
              "<table border=\"1\" class=\"dataframe\">\n",
              "  <thead>\n",
              "    <tr style=\"text-align: right;\">\n",
              "      <th></th>\n",
              "      <th></th>\n",
              "      <th>salary</th>\n",
              "    </tr>\n",
              "    <tr>\n",
              "      <th>number_project</th>\n",
              "      <th>salary</th>\n",
              "      <th></th>\n",
              "    </tr>\n",
              "  </thead>\n",
              "  <tbody>\n",
              "    <tr>\n",
              "      <th rowspan=\"3\" valign=\"top\">2</th>\n",
              "      <th>high</th>\n",
              "      <td>140</td>\n",
              "    </tr>\n",
              "    <tr>\n",
              "      <th>low</th>\n",
              "      <td>1344</td>\n",
              "    </tr>\n",
              "    <tr>\n",
              "      <th>medium</th>\n",
              "      <td>904</td>\n",
              "    </tr>\n",
              "    <tr>\n",
              "      <th rowspan=\"3\" valign=\"top\">3</th>\n",
              "      <th>high</th>\n",
              "      <td>408</td>\n",
              "    </tr>\n",
              "    <tr>\n",
              "      <th>low</th>\n",
              "      <td>1791</td>\n",
              "    </tr>\n",
              "    <tr>\n",
              "      <th>medium</th>\n",
              "      <td>1856</td>\n",
              "    </tr>\n",
              "    <tr>\n",
              "      <th rowspan=\"3\" valign=\"top\">4</th>\n",
              "      <th>high</th>\n",
              "      <td>368</td>\n",
              "    </tr>\n",
              "    <tr>\n",
              "      <th>low</th>\n",
              "      <td>2087</td>\n",
              "    </tr>\n",
              "    <tr>\n",
              "      <th>medium</th>\n",
              "      <td>1910</td>\n",
              "    </tr>\n",
              "    <tr>\n",
              "      <th rowspan=\"3\" valign=\"top\">5</th>\n",
              "      <th>high</th>\n",
              "      <td>245</td>\n",
              "    </tr>\n",
              "    <tr>\n",
              "      <th>low</th>\n",
              "      <td>1317</td>\n",
              "    </tr>\n",
              "    <tr>\n",
              "      <th>medium</th>\n",
              "      <td>1199</td>\n",
              "    </tr>\n",
              "    <tr>\n",
              "      <th rowspan=\"3\" valign=\"top\">6</th>\n",
              "      <th>high</th>\n",
              "      <td>73</td>\n",
              "    </tr>\n",
              "    <tr>\n",
              "      <th>low</th>\n",
              "      <td>633</td>\n",
              "    </tr>\n",
              "    <tr>\n",
              "      <th>medium</th>\n",
              "      <td>468</td>\n",
              "    </tr>\n",
              "    <tr>\n",
              "      <th rowspan=\"3\" valign=\"top\">7</th>\n",
              "      <th>high</th>\n",
              "      <td>3</td>\n",
              "    </tr>\n",
              "    <tr>\n",
              "      <th>low</th>\n",
              "      <td>144</td>\n",
              "    </tr>\n",
              "    <tr>\n",
              "      <th>medium</th>\n",
              "      <td>109</td>\n",
              "    </tr>\n",
              "  </tbody>\n",
              "</table>\n",
              "</div>\n",
              "      <button class=\"colab-df-convert\" onclick=\"convertToInteractive('df-d1bef5a4-1c64-44c3-b96b-0e6564edeb0c')\"\n",
              "              title=\"Convert this dataframe to an interactive table.\"\n",
              "              style=\"display:none;\">\n",
              "        \n",
              "  <svg xmlns=\"http://www.w3.org/2000/svg\" height=\"24px\"viewBox=\"0 0 24 24\"\n",
              "       width=\"24px\">\n",
              "    <path d=\"M0 0h24v24H0V0z\" fill=\"none\"/>\n",
              "    <path d=\"M18.56 5.44l.94 2.06.94-2.06 2.06-.94-2.06-.94-.94-2.06-.94 2.06-2.06.94zm-11 1L8.5 8.5l.94-2.06 2.06-.94-2.06-.94L8.5 2.5l-.94 2.06-2.06.94zm10 10l.94 2.06.94-2.06 2.06-.94-2.06-.94-.94-2.06-.94 2.06-2.06.94z\"/><path d=\"M17.41 7.96l-1.37-1.37c-.4-.4-.92-.59-1.43-.59-.52 0-1.04.2-1.43.59L10.3 9.45l-7.72 7.72c-.78.78-.78 2.05 0 2.83L4 21.41c.39.39.9.59 1.41.59.51 0 1.02-.2 1.41-.59l7.78-7.78 2.81-2.81c.8-.78.8-2.07 0-2.86zM5.41 20L4 18.59l7.72-7.72 1.47 1.35L5.41 20z\"/>\n",
              "  </svg>\n",
              "      </button>\n",
              "      \n",
              "  <style>\n",
              "    .colab-df-container {\n",
              "      display:flex;\n",
              "      flex-wrap:wrap;\n",
              "      gap: 12px;\n",
              "    }\n",
              "\n",
              "    .colab-df-convert {\n",
              "      background-color: #E8F0FE;\n",
              "      border: none;\n",
              "      border-radius: 50%;\n",
              "      cursor: pointer;\n",
              "      display: none;\n",
              "      fill: #1967D2;\n",
              "      height: 32px;\n",
              "      padding: 0 0 0 0;\n",
              "      width: 32px;\n",
              "    }\n",
              "\n",
              "    .colab-df-convert:hover {\n",
              "      background-color: #E2EBFA;\n",
              "      box-shadow: 0px 1px 2px rgba(60, 64, 67, 0.3), 0px 1px 3px 1px rgba(60, 64, 67, 0.15);\n",
              "      fill: #174EA6;\n",
              "    }\n",
              "\n",
              "    [theme=dark] .colab-df-convert {\n",
              "      background-color: #3B4455;\n",
              "      fill: #D2E3FC;\n",
              "    }\n",
              "\n",
              "    [theme=dark] .colab-df-convert:hover {\n",
              "      background-color: #434B5C;\n",
              "      box-shadow: 0px 1px 3px 1px rgba(0, 0, 0, 0.15);\n",
              "      filter: drop-shadow(0px 1px 2px rgba(0, 0, 0, 0.3));\n",
              "      fill: #FFFFFF;\n",
              "    }\n",
              "  </style>\n",
              "\n",
              "      <script>\n",
              "        const buttonEl =\n",
              "          document.querySelector('#df-d1bef5a4-1c64-44c3-b96b-0e6564edeb0c button.colab-df-convert');\n",
              "        buttonEl.style.display =\n",
              "          google.colab.kernel.accessAllowed ? 'block' : 'none';\n",
              "\n",
              "        async function convertToInteractive(key) {\n",
              "          const element = document.querySelector('#df-d1bef5a4-1c64-44c3-b96b-0e6564edeb0c');\n",
              "          const dataTable =\n",
              "            await google.colab.kernel.invokeFunction('convertToInteractive',\n",
              "                                                     [key], {});\n",
              "          if (!dataTable) return;\n",
              "\n",
              "          const docLinkHtml = 'Like what you see? Visit the ' +\n",
              "            '<a target=\"_blank\" href=https://colab.research.google.com/notebooks/data_table.ipynb>data table notebook</a>'\n",
              "            + ' to learn more about interactive tables.';\n",
              "          element.innerHTML = '';\n",
              "          dataTable['output_type'] = 'display_data';\n",
              "          await google.colab.output.renderOutput(dataTable, element);\n",
              "          const docLink = document.createElement('div');\n",
              "          docLink.innerHTML = docLinkHtml;\n",
              "          element.appendChild(docLink);\n",
              "        }\n",
              "      </script>\n",
              "    </div>\n",
              "  </div>\n",
              "  "
            ]
          },
          "metadata": {},
          "execution_count": 279
        }
      ]
    }
  ],
  "metadata": {
    "colab": {
      "collapsed_sections": [],
      "name": "Добро пожаловать в Colaboratory!",
      "provenance": [],
      "include_colab_link": true
    },
    "kernelspec": {
      "display_name": "Python 3",
      "name": "python3"
    }
  },
  "nbformat": 4,
  "nbformat_minor": 0
}